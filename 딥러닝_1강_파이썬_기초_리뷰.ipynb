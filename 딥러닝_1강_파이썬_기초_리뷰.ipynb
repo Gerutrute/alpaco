{
  "nbformat": 4,
  "nbformat_minor": 0,
  "metadata": {
    "colab": {
      "provenance": [],
      "authorship_tag": "ABX9TyOSZuop1sfNGy5rAfTlbB3N"
    },
    "kernelspec": {
      "name": "python3",
      "display_name": "Python 3"
    },
    "language_info": {
      "name": "python"
    }
  },
  "cells": [
    {
      "cell_type": "markdown",
      "source": [
        "# 변수\n",
        "변수는 데이터 통이다\n",
        "데이터의 재사용을 위해, 관리의 효율을 위해 사용"
      ],
      "metadata": {
        "id": "o5fqDY6Q28KZ"
      }
    },
    {
      "cell_type": "markdown",
      "source": [
        "# 함수\n",
        "함수는 입력과 출력의 관계를 표현한 코드를 패키징한 코드 통이다.\n",
        "- 함수의 정의는  def로 시작하며, 이는 함수를 실행시키는 것이 아닌 코드를 함수명으로 정의하는 것.\n",
        "- 함수를 호출하는 것이 함수의 실행이다.\n",
        "- 코드의 재사용을 위해, 관리의 효율을 위해 사용"
      ],
      "metadata": {
        "id": "g6N4tUyw3ATA"
      }
    },
    {
      "cell_type": "markdown",
      "source": [
        "# 자료구조\n",
        "- 리스트 튜플 셋 딕셔너리\n",
        "- 리스트는 묶음 데이터\n",
        "- 셋은 집합 데이터\n",
        "- 튜플은 변경 불가능\n",
        "- 셋은 순서 x 중복 불가능\n",
        "- 딕서너리 순서 x, 키-밸류의 쌍\n",
        "- 딕셔너리 선언은 키값을 선언"
      ],
      "metadata": {
        "id": "TadCogSW3MvY"
      }
    },
    {
      "cell_type": "markdown",
      "source": [
        "# 제어문\n",
        "- 조건문과 반복문\n",
        "- 논리적 사고 3가지 : 조건 판단, 규칙 발견 및 체계화(구조화, 수식화), 순서도 판단\n",
        "- if문은 리딩스킬(컴퓨팅적 사고)\n",
        "- for문은 리스트(이터러블 객체)으 반복시행을 위한 문법\n",
        "- while문은 조건이 참인 동안 반복시행"
      ],
      "metadata": {
        "id": "D4BuZ07Y3dYO"
      }
    },
    {
      "cell_type": "markdown",
      "source": [
        "# 내포용법\n",
        "- A안에 B있다. : 자료구조(리스트)안에 제어문(for, if) 있다.\n",
        "- 리스트(자료구조) 생성의 편의를 위해 쓴다."
      ],
      "metadata": {
        "id": "UxM4dQse3uID"
      }
    },
    {
      "cell_type": "markdown",
      "source": [],
      "metadata": {
        "id": "tIf1CvIg25kB"
      }
    },
    {
      "cell_type": "markdown",
      "source": [],
      "metadata": {
        "id": "ooZ7UnSQ24sQ"
      }
    },
    {
      "cell_type": "markdown",
      "source": [
        "#프로그래머스 기초 문제 풀이"
      ],
      "metadata": {
        "id": "EZeh_U6d4Ugn"
      }
    },
    {
      "cell_type": "code",
      "source": [
        "def solution(temp_list, n):\n",
        "    answer = 0\n",
        "    if n in temp_list:\n",
        "        answer = 1\n",
        "    return answer"
      ],
      "metadata": {
        "id": "i6eKI1sJ4XhV"
      },
      "execution_count": 62,
      "outputs": []
    },
    {
      "cell_type": "code",
      "source": [
        "temp_list = {'9기' : [39,37,36,36,39], '10기' : [35,36,37,37,38], '11기' : [37,37,36,37,39]}\n",
        "\n",
        "for t_list in temp_list:\n",
        "    print(t_list)"
      ],
      "metadata": {
        "colab": {
          "base_uri": "https://localhost:8080/"
        },
        "id": "ucSYLwgG48Fb",
        "outputId": "8fd4749e-a299-4f9b-9232-b4bb1b89eef7"
      },
      "execution_count": 71,
      "outputs": [
        {
          "output_type": "stream",
          "name": "stdout",
          "text": [
            "9기\n",
            "10기\n",
            "11기\n"
          ]
        }
      ]
    },
    {
      "cell_type": "code",
      "source": [
        "check_list = [] # 존재 유무 정보 저장 1 또는 0\n",
        "\n",
        "for key in temp_list:\n",
        "    for temp in temp_list[key]:\n",
        "        if temp > 38:\n",
        "            print(key, '휴강')\n",
        "            break"
      ],
      "metadata": {
        "colab": {
          "base_uri": "https://localhost:8080/"
        },
        "id": "1rnG2a1f5RW4",
        "outputId": "90a44579-edd5-43d3-b9f0-301214b600a3"
      },
      "execution_count": 74,
      "outputs": [
        {
          "output_type": "stream",
          "name": "stdout",
          "text": [
            "9기 휴강\n",
            "11기 휴강\n"
          ]
        }
      ]
    },
    {
      "cell_type": "code",
      "source": [
        "check_list"
      ],
      "metadata": {
        "colab": {
          "base_uri": "https://localhost:8080/"
        },
        "id": "3AmTFmyD56CB",
        "outputId": "06237752-c384-4795-9d94-b7d0fa25bcee"
      },
      "execution_count": 73,
      "outputs": [
        {
          "output_type": "execute_result",
          "data": {
            "text/plain": [
              "[]"
            ]
          },
          "metadata": {},
          "execution_count": 73
        }
      ]
    },
    {
      "cell_type": "code",
      "source": [
        "# item\n",
        "for key in temp_list:\n",
        "    for temp in temp_list[key]:\n",
        "        if temp > 38:\n",
        "            print(key, temp, '휴강')\n",
        "            break"
      ],
      "metadata": {
        "colab": {
          "base_uri": "https://localhost:8080/"
        },
        "id": "BelOqkcU9jz0",
        "outputId": "38d745b4-2f4c-4b8e-f4c8-8ead21a941e2"
      },
      "execution_count": 76,
      "outputs": [
        {
          "output_type": "stream",
          "name": "stdout",
          "text": [
            "9기 39 휴강\n",
            "11기 39 휴강\n"
          ]
        }
      ]
    },
    {
      "cell_type": "code",
      "source": [
        "my_string = \"zpiaz\"\n",
        "index_list = [1, 2, 0, 0, 3]\n",
        "\n",
        "def solution(my_string, index_list):\n",
        "    answer = ''\n",
        "\n",
        "    for i in index_list:\n",
        "        answer += my_string[i]\n",
        "    return answer\n",
        "\n",
        "solution(my_string, index_list)"
      ],
      "metadata": {
        "colab": {
          "base_uri": "https://localhost:8080/",
          "height": 35
        },
        "id": "l9cow6UWA8Bq",
        "outputId": "277e4bca-af3a-4c2e-d3a2-f826e4eb17d9"
      },
      "execution_count": 102,
      "outputs": [
        {
          "output_type": "execute_result",
          "data": {
            "text/plain": [
              "'pizza'"
            ],
            "application/vnd.google.colaboratory.intrinsic+json": {
              "type": "string"
            }
          },
          "metadata": {},
          "execution_count": 102
        }
      ]
    },
    {
      "cell_type": "code",
      "execution_count": null,
      "metadata": {
        "colab": {
          "base_uri": "https://localhost:8080/"
        },
        "id": "bjX3Yxoub0wL",
        "outputId": "716ee7f1-716d-4655-d3e8-843efda093a3"
      },
      "outputs": [
        {
          "output_type": "execute_result",
          "data": {
            "text/plain": [
              "{'이름': ['조영수', '최희범', '이기마'], '직업': ['직장인', '직장인'], '나이': ['32', '38']}"
            ]
          },
          "metadata": {},
          "execution_count": 16
        }
      ],
      "source": [
        "info = {}\n",
        "info['이름'] = [\"조영수\", \"최희범\"]\n",
        "info['직업'] = [\"직장인\", \"직장인\"]\n",
        "info['나이'] = [\"32\",\"38\"]\n",
        "info['이름'].append(\"이기마\")\n",
        "info[\"나이\"].pop\n",
        "info"
      ]
    },
    {
      "cell_type": "code",
      "source": [
        "\"\"\"\n",
        "다음 그림을 그리시오.\n",
        "  * # 스페이스바 2개, * 1개\n",
        " * * # 스페이스바 1개, * 2개\n",
        "* * * # 스페이스 0개, * 3개\n",
        "\"\"\"\n",
        "\n",
        "a, b = '', ''\n",
        "\n",
        "for i in range(3):\n",
        "    a = (2-i) * \" \"\n",
        "    b = (i+1) * \"* \"\n",
        "    print(\"{}\".format(a+b))"
      ],
      "metadata": {
        "colab": {
          "base_uri": "https://localhost:8080/"
        },
        "id": "i-HoUqhccYtB",
        "outputId": "7de0aef9-21d0-496c-8736-e232545016a0"
      },
      "execution_count": 52,
      "outputs": [
        {
          "output_type": "stream",
          "name": "stdout",
          "text": [
            "  * \n",
            " * * \n",
            "* * * \n"
          ]
        }
      ]
    },
    {
      "cell_type": "markdown",
      "source": [
        "# 프로그래밍 5대 오타 :\n",
        "- 스펠링, 괄호비대칭, . 혼동, :; 혼동, 들여쓰기\n",
        "\n",
        "# 대처법\n",
        "에러문장 보면서 천천히 대처하기"
      ],
      "metadata": {
        "id": "T12wRYG2HAvC"
      }
    }
  ]
}